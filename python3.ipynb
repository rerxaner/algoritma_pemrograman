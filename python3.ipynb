{
 "cells": [
  {
   "cell_type": "markdown",
   "metadata": {},
   "source": [
    "### install python3.9\n",
    "\n",
    "<li>sudo apt update && sudo apt install software-properties-common</li>\n",
    "<li>sudo add-apt-repository ppa:deadsnakes/ppa</li>\n",
    "<li>sudo apt install python3.9</li>\n",
    "<li>python3.9 --version</li>\n",
    "<li>echo \"alias python='/usr/local/bin/python3.9'\" >> ~/.bashrc</li>\n",
    "<li>python --version</li>"
   ]
  },
  {
   "cell_type": "markdown",
   "metadata": {},
   "source": [
    "### Virtual Environments\n",
    "\n",
    "<li>sudo apt install python3-pip</li>\n",
    "<li>python -m pip install --upgrade pip</li>\n",
    "<li>pip --version</li>\n",
    "<li>pip list</li>\n",
    "<li>pip install package_name</li>\n",
    "<li>pip uninstall package_name</li>\n",
    "<li>cd /home/user/Documents</li>\n",
    "<li>mkdir virtual</li>\n",
    "<li>cd virtual</li>\n",
    "<li>python -m venv .venv</li>\n",
    "<li>source .venv/bin/activate</li>\n",
    "<li>deactivate</li>"
   ]
  },
  {
   "cell_type": "markdown",
   "metadata": {},
   "source": [
    "### Variabel dan Tipe Data\n",
    "\n",
    "<li>Numbers</li>\n",
    "<li>Strings</li>\n",
    "<li>Boolean</li>"
   ]
  },
  {
   "cell_type": "code",
   "execution_count": null,
   "metadata": {},
   "outputs": [],
   "source": [
    "# number.py\n",
    "# Tipe data integer\n",
    "x = 4\n",
    "y = 2\n",
    "z = 4 + 2\n",
    "\n",
    "print(z)\n",
    "\n",
    "# Tipe data floating numbers\n",
    "a = 9.5\n",
    "\n",
    "print(a)"
   ]
  },
  {
   "cell_type": "code",
   "execution_count": null,
   "metadata": {},
   "outputs": [],
   "source": [
    "# string.py\n",
    "# Single quote\n",
    "first_name = 'Rahman'\n",
    "\n",
    "# Double quote\n",
    "last_name = \"Badio\"\n",
    "\n",
    "# Angka sebagai string\n",
    "age = \"18\"\n",
    "\n",
    "# Penulisan string multiline\n",
    "hobby = '''Hobi saya adalah\n",
    "nonton main game dan tidur'''\n",
    "\n",
    "# Mencetak variabel string\n",
    "print(first_name + ' ' + last_name)\n",
    "print('Saya berumur ' + age)\n"
   ]
  },
  {
   "cell_type": "code",
   "execution_count": null,
   "metadata": {},
   "outputs": [],
   "source": [
    "# boolean.py\n",
    "t = True\n",
    "f = False\n",
    "\n",
    "print(t, f)"
   ]
  },
  {
   "cell_type": "markdown",
   "metadata": {},
   "source": [
    "### Operator\n",
    "\n",
    "<li>Aritmatika</li>\n",
    "<li>Perbandingan (Comparison)</li>\n",
    "<li>Logika</li>"
   ]
  },
  {
   "cell_type": "code",
   "execution_count": null,
   "metadata": {},
   "outputs": [],
   "source": [
    "# aritmatika.py\n",
    "a = 8\n",
    "b = 4\n",
    "# Penjumlahan\n",
    "c = a + b\n",
    "# Pengurangan\n",
    "d = a - b\n",
    "# Perkalian\n",
    "e = a * b\n",
    "# Pembagian\n",
    "f = a / b\n",
    "# Modulus\n",
    "g = a % b\n",
    "# Eksponensial\n",
    "h = a ** b\n",
    "\n",
    "# Cetak output\n",
    "print(c) # 6\n",
    "print(d) # 2\n",
    "print(e) # 8\n",
    "print(f) # 2\n",
    "print(g) # 0\n",
    "print(h) # 16"
   ]
  },
  {
   "cell_type": "code",
   "execution_count": null,
   "metadata": {},
   "outputs": [],
   "source": [
    "# perbandingan.py\n",
    "a = 1\n",
    "b = 3\n",
    "# Perbandingan sama dengan\n",
    "c = a == b\n",
    "# Perbandingan tidak sama dengan\n",
    "d = a != b\n",
    "# Perbandingan lebih kecil\n",
    "e = a < b\n",
    "# Perbandingan lebih kecil sama dengan\n",
    "f = a <= b\n",
    "# Perbandingan lebih besar\n",
    "g = a > b\n",
    "# Perbandingan lebih besar sama dengan\n",
    "h = a >= b\n",
    "\n",
    "# Cetak output\n",
    "print(c) # False\n",
    "print(d) # True\n",
    "print(e) # True\n",
    "print(f) # True\n",
    "print(g) # False\n",
    "print(h) # False"
   ]
  },
  {
   "cell_type": "code",
   "execution_count": null,
   "metadata": {},
   "outputs": [],
   "source": [
    "# logical.py\n",
    "a = 2\n",
    "b = 8\n",
    "\n",
    "# Contoh Penggunaan \"and\"\n",
    "print(a < 5 and b > 6) # True\n",
    "print(a < 5 and b < 6) # False\n",
    "print(a > 5 and b < 6) # False\n",
    "\n",
    "# Contoh Penggunaan \"or\"\n",
    "print(a < 5 or b > 6) # True\n",
    "print(a < 5 or b < 6) # True\n",
    "print(a > 5 or b < 6) # False\n",
    "\n",
    "# Contoh Penggunaan \"not\"\n",
    "print(not(a < 5 or b > 6)) # False\n",
    "print(not(a > 5 or b < 6)) # True"
   ]
  },
  {
   "cell_type": "markdown",
   "metadata": {},
   "source": [
    "### Percabangan\n",
    "\n",
    "<li>if</li>\n",
    "<li>if else</li>\n",
    "<li>if elif</li>\n",
    "<li>if elif else</li>"
   ]
  },
  {
   "cell_type": "code",
   "execution_count": null,
   "metadata": {},
   "outputs": [],
   "source": [
    "# if.py\n",
    "x = 5\n",
    "y = 10\n",
    "\n",
    "# karena x lebih kecil dari y adalah benar. maka kode di dalam scope statemen if akan dijalankan.\n",
    "if(x < y):\n",
    "    print(\"nilai x lebih kecil dari y.\") # ini akan dijalankan\n",
    "\n",
    "# karena x lebih besar dari y adalah salah. maka kode di dalam scope statemen if tidak akan dijalankan.\n",
    "if(x > y):\n",
    "    print(\"nilai x lebih besar dari y.\") # ini tidak akan dijalankan"
   ]
  },
  {
   "cell_type": "code",
   "execution_count": null,
   "metadata": {},
   "outputs": [],
   "source": [
    "# if_else.py\n",
    "a = 60\n",
    "\n",
    "if(a > 90):\n",
    "\tprint(\"Dapat nilai A.\") # ini tidak akan dijalankan\n",
    "elif(a > 70):\n",
    "    print(\"Dapat nilai B.\") # ini tidak akan dijalankan\n",
    "else:\n",
    "    print(\"Dapat nilai C.\") # ini akan dijalankan"
   ]
  },
  {
   "cell_type": "code",
   "execution_count": null,
   "metadata": {},
   "outputs": [],
   "source": [
    "# if_elif.py\n",
    "a = 80\n",
    "\n",
    "# disini kita melakukan pengecekan kedua dan ketiga jika pada statemen if bernilai False. Kode pada blok ini\n",
    "# akan dijalankan hanya jika statemen elif bernilai True.\n",
    "\n",
    "# Pengecekan pertama dengan if: if(a > 90)\n",
    "# Pengecekan kedua dengan elif: elif(a > 70)\n",
    "\n",
    "if(a > 90):\n",
    "\tprint(\"Dapat nilai A.\") # ini tidak akan dijalankan\n",
    "elif(a > 70):\n",
    "    print(\"Dapat nilai B.\") # ini akan dijalankan"
   ]
  },
  {
   "cell_type": "code",
   "execution_count": null,
   "metadata": {},
   "outputs": [],
   "source": [
    "# if_elif_else.py\n",
    "nilai = 91\n",
    "\n",
    "if nilai == 100:\n",
    "    print('A')\n",
    "elif nilai >= 90:\n",
    "    print(\"A-\")\n",
    "elif nilai >= 80:\n",
    "    print(\"B+\")\n",
    "elif nilai >= 70:\n",
    "    print(\"B\")\n",
    "else:\n",
    "    print(\"E\")"
   ]
  },
  {
   "cell_type": "markdown",
   "metadata": {},
   "source": [
    "### Percabangan\n",
    "\n",
    "<li>for</li>\n",
    "<li>while</li>"
   ]
  },
  {
   "cell_type": "code",
   "execution_count": null,
   "metadata": {},
   "outputs": [],
   "source": [
    "for i in range(1, 10, 2):\n",
    "    print(i)"
   ]
  },
  {
   "cell_type": "code",
   "execution_count": null,
   "metadata": {},
   "outputs": [],
   "source": [
    "jawab = 'y'\n",
    "hitung = 0\n",
    "\n",
    "while jawab == 'y':\n",
    "    hitung += 1\n",
    "    jawab = input('Ulang lagi (y): ')\n",
    "print(f\"Total perulangan: {hitung}\")"
   ]
  },
  {
   "cell_type": "markdown",
   "metadata": {},
   "source": [
    "### List"
   ]
  },
  {
   "cell_type": "code",
   "execution_count": null,
   "metadata": {},
   "outputs": [],
   "source": [
    "list = ['ayam', 'ikan', 'sapi', 'kambing']\n",
    "print(list[0])"
   ]
  },
  {
   "cell_type": "markdown",
   "metadata": {},
   "source": [
    "### Dictionaries"
   ]
  },
  {
   "cell_type": "code",
   "execution_count": null,
   "metadata": {},
   "outputs": [],
   "source": [
    "students = {\n",
    "    \"nama\" : \"Rahman\",\n",
    "    \"npm\" : \"2355201085\",\n",
    "    \"jurusan\" : \"Teknik Informatika\",\n",
    "}\n",
    "\n",
    "print(students[\"nama\"])"
   ]
  },
  {
   "cell_type": "code",
   "execution_count": null,
   "metadata": {},
   "outputs": [],
   "source": [
    "students = {\n",
    "    \"nama\": \"Rahman\",\n",
    "    \"npm\": \"2355201085\",\n",
    "    \"jurusan\": \"Teknik Informatika\",\n",
    "}\n",
    "\n",
    "for key, value in students.items():\n",
    "    print(key, value)"
   ]
  },
  {
   "cell_type": "markdown",
   "metadata": {},
   "source": [
    "### Function"
   ]
  },
  {
   "cell_type": "code",
   "execution_count": null,
   "metadata": {},
   "outputs": [],
   "source": [
    "def mahasiswa(nama = \"admin\", age = \"21\"):\n",
    "    return nama, age\n",
    "\n",
    "mahasiswa('Rahman', '18')\n",
    "mahasiswa()"
   ]
  },
  {
   "cell_type": "markdown",
   "metadata": {},
   "source": [
    "### Class"
   ]
  },
  {
   "cell_type": "code",
   "execution_count": null,
   "metadata": {},
   "outputs": [],
   "source": [
    "# Membuat Class Cat dengan property color\n",
    "\n",
    "class Cat:\n",
    "    color = \"black\"\n",
    "\n",
    "# Kita bisa membuat object dari sebuah Class, di bawah ini kita akan membuat object dengan nama cat1\n",
    "cat1 = Cat();\n",
    "# Kita juga bisa mengakses property yang di definiskan di dalam Class\n",
    "print(cat1.color) # black"
   ]
  },
  {
   "cell_type": "code",
   "execution_count": null,
   "metadata": {},
   "outputs": [],
   "source": [
    "# Membuat Class Cat dengan property color dan menambahkan method constructor\n",
    "# Kita akan menambahkan method constructor untuk mengubah nilai dari properti color\n",
    "class Cat:\n",
    "    color = \"black\"\n",
    "\n",
    "    def __init__(self, color):\n",
    "        self.color = color\n",
    "\n",
    "# Membuat objek baru\n",
    "cat1 = Cat(\"orange\")\n",
    "print(cat1.color) # orange"
   ]
  },
  {
   "cell_type": "code",
   "execution_count": null,
   "metadata": {},
   "outputs": [],
   "source": [
    "# Membuat Class Cat dan menambahkan method say\n",
    "# Kita akan menambahkan method say yang berisi perintah untuk mencetak teks \"Meong..meong\"\n",
    "class Cat:\n",
    "    def say(self):\n",
    "        print(\"Meong..meong\")\n",
    "\n",
    "# Membuat objek baru\n",
    "cat1 = Cat()\n",
    "# Mengakses method di dalam class dari objek yang diinisiasi dari sebuah CLass\n",
    "cat1.say() # Meong..meong"
   ]
  },
  {
   "cell_type": "code",
   "execution_count": null,
   "metadata": {},
   "outputs": [],
   "source": [
    "# Membuat class Cat dengan method say\n",
    "# Kita mengubah penamaan parameter \"self\" dengan nama \"myParam\"\n",
    "class Cat:\n",
    "\tcolor = \"black\"\n",
    "\n",
    "\tdef say(myParam):\n",
    "\t\tprint(\"My color is %s\" % myParam.color)\n",
    "\n",
    "# Membuat objek baru\n",
    "cat1 = Cat()\n",
    "# Memanggil method di dalam Class\n",
    "cat1.say()"
   ]
  }
 ],
 "metadata": {
  "kernelspec": {
   "display_name": "Python 3",
   "language": "python",
   "name": "python3"
  },
  "language_info": {
   "codemirror_mode": {
    "name": "ipython",
    "version": 3
   },
   "file_extension": ".py",
   "mimetype": "text/x-python",
   "name": "python",
   "nbconvert_exporter": "python",
   "pygments_lexer": "ipython3",
   "version": "3.10.12"
  }
 },
 "nbformat": 4,
 "nbformat_minor": 2
}
